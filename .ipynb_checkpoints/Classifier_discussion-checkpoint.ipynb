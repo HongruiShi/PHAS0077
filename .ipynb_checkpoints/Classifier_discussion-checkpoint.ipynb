{
 "cells": [
  {
   "cell_type": "markdown",
   "metadata": {},
   "source": [
    "# Import function"
   ]
  },
  {
   "cell_type": "code",
   "execution_count": 1,
   "metadata": {},
   "outputs": [],
   "source": [
    "import numpy as np\n",
    "import pandas as pd\n",
    "\n",
    "from sklearn import tree\n",
    "from sklearn.ensemble import RandomForestClassifier\n",
    "\n",
    "from sklearn import metrics\n",
    "from sklearn.metrics import auc\n",
    "from sklearn.metrics import roc_auc_score\n",
    "from sklearn.metrics import roc_curve\n",
    "\n",
    "from sklearn import preprocessing\n",
    "from sklearn.preprocessing import StandardScaler\n",
    "\n",
    "from sklearn.model_selection import GridSearchCV\n",
    "from sklearn.model_selection import train_test_split\n",
    "from sklearn.model_selection import cross_val_score\n",
    "\n",
    "import matplotlib.pyplot as plt\n",
    "from sklearn.metrics import accuracy_score\n",
    "from sklearn.tree import DecisionTreeClassifier\n",
    "\n",
    "from sklearn.metrics import classification_report\n",
    "from sklearn.metrics import confusion_matrix"
   ]
  },
  {
   "cell_type": "markdown",
   "metadata": {},
   "source": [
    "# Import data and split data to training and testing dataset with ShuffleSplit"
   ]
  },
  {
   "cell_type": "code",
   "execution_count": 2,
   "metadata": {},
   "outputs": [],
   "source": [
    "# normalize labels\n",
    "def LabelEncoder_data(data):\n",
    "    typeseries = data.dtypes\n",
    "    lbl = preprocessing.LabelEncoder()\n",
    "    for i in typeseries.index:\n",
    "        if typeseries[i] == 'object':\n",
    "            data[i] = lbl.fit_transform(data[i].astype(str))\n",
    "    return data\n",
    "\n",
    "#  StandardScaler and transforms the data \n",
    "def scale_data(unscaled_data):\n",
    "    scaler = StandardScaler()\n",
    "    scaler.fit(unscaled_data)\n",
    "    scaled_data = scaler.transform(unscaled_data)\n",
    "    return scaled_data\n",
    "\n",
    "# get features and targets\n",
    "def target_data(data):\n",
    "    data_y = data['discussion'].copy()\n",
    "    data_x = data.drop('discussion',axis=1)\n",
    "    data_x_scaled = scale_data(data_x)\n",
    "    return data_x_scaled,data_y \n",
    "\n",
    "# use StratifiedShuffleSplit to get indices for train and test dataset\n",
    "from sklearn.model_selection import StratifiedShuffleSplit\n",
    "def shufflesplit_data(data_x_scaled,data_y):\n",
    "    # use strat. shuffle split to get indices for test and training data \n",
    "    sss = StratifiedShuffleSplit(n_splits=10, test_size=0.3, random_state=123)\n",
    "    sss.get_n_splits(data_x_scaled, data_y)\n",
    "    return sss\n",
    "\n",
    "\n",
    "# get train and test dataset from ShuffleSplited data\n",
    "def train_test_data(sss):\n",
    "    for train_index, test_index in sss.split(data_x_scaled, data_y):\n",
    "        #print(\"TRAIN:\", train_index, \"TEST:\", test_index)\n",
    "        x_train, x_test = data_x_scaled[train_index], data_x_scaled[test_index]\n",
    "        y_train, y_test = data_y[train_index], data_y[test_index]\n",
    "    return x_train,x_test,y_train,y_test\n",
    "\n",
    "\n",
    "def import_data(data):\n",
    "    LabelEncodeData=LabelEncoder_data(data)\n",
    "    data_x_scaled,data_y =target_data(LabelEncodeData)\n",
    "    return data_x_scaled,data_y "
   ]
  },
  {
   "cell_type": "markdown",
   "metadata": {},
   "source": [
    "# Build perfomance matrics of the models"
   ]
  },
  {
   "cell_type": "code",
   "execution_count": 3,
   "metadata": {},
   "outputs": [],
   "source": [
    "class Metrics:\n",
    "    def __init__(self,model):\n",
    "        self.model=model\n",
    "        self.train_predict=model.predict(x_train)\n",
    "        self.test_predict=model.predict(x_test)\n",
    "        self.train_predict_proba=model.predict_proba(x_train)\n",
    "        self.test_predict_proba=model.predict_proba(x_test)\n",
    "\n",
    "    # the confusion matrix of train and test dataset\n",
    "    def Plot_ConfusionMatrix(self):\n",
    "        import matplotlib.pyplot as plt\n",
    "        import seaborn as sns\n",
    "        cn_tc_train = confusion_matrix(y_train, self.train_predict)\n",
    "        cn_tc_test = confusion_matrix(y_test, self.test_predict)\n",
    "\n",
    "        %matplotlib inline\n",
    "        f,(ax1,ax2) = plt.subplots(1,2,sharey=True,figsize=(10,10))\n",
    "\n",
    "        g1 = sns.heatmap(cn_tc_train, cmap = sns.color_palette(\"Blues\"), annot=True,fmt='.0f', ax=ax1,square=True,cbar=False)\n",
    "        g2 = sns.heatmap(cn_tc_test, cmap = sns.color_palette(\"Blues\"), annot=True,fmt='.0f',ax=ax2,square=True,cbar=False)\n",
    "\n",
    "        ax1.set_title('confusion matrix of train')\n",
    "        ax2.set_title('confusion matrix of test')\n",
    "        \n",
    "    # the report of training and testing results\n",
    "    def Get_ClassificationReport(self):\n",
    "        print(classification_report(y_train,self.train_predict))\n",
    "        print('----------------------------------------------------------')\n",
    "        print(classification_report(y_test,self.test_predict))\n",
    "            \n",
    "    # the ROC curve of training and testing dataset\n",
    "    def Plot_ROC(self):\n",
    "        y_score_train = self.train_predict_proba\n",
    "        fpr_train, tpr_train, _ = roc_curve(y_train, y_score_train[:,1])\n",
    "        y_score_test = self.test_predict_proba\n",
    "        fpr_test, tpr_test, _ = roc_curve(y_test, y_score_test[:,1])\n",
    "\n",
    "        plt.figure()\n",
    "        lw = 2\n",
    "        roc_auc_train = auc(fpr_train, tpr_train)\n",
    "        roc_auc_test = auc(fpr_test, tpr_test)\n",
    "        plt.plot(fpr_train, tpr_train, color='green',lw=lw, \n",
    "                     label='ROC curve in train (area = %0.2f)' % roc_auc_train)\n",
    "        plt.plot(fpr_test, tpr_test, color='darkorange',lw=lw, \n",
    "                     label='ROC curve in test (area = %0.2f)' % roc_auc_test)\n",
    "        plt.plot([0,1], [0,1], color='navy', lw=lw, linestyle='--')\n",
    "\n",
    "        plt.xlim([0, 1.0])\n",
    "        plt.ylim([0, 1.05])\n",
    "\n",
    "        plt.xlabel('False Positive Rate')\n",
    "        plt.ylabel('True Positive Rate')\n",
    "        plt.title('ROC curve of Decision Tree model')\n",
    "\n",
    "        plt.legend(loc=\"lower right\")"
   ]
  },
  {
   "cell_type": "markdown",
   "metadata": {},
   "source": [
    "# Three machine learning algorithms are conducted"
   ]
  },
  {
   "cell_type": "markdown",
   "metadata": {},
   "source": [
    "## 1. Deicision Tree Classifier"
   ]
  },
  {
   "cell_type": "code",
   "execution_count": 4,
   "metadata": {},
   "outputs": [],
   "source": [
    "# find the best combination of three paramters\n",
    "from sklearn.model_selection import StratifiedShuffleSplit\n",
    "def SearchCV():    \n",
    "    # set the range of parameters searching\n",
    "    param_grid = {\n",
    "        'max_depth': np.arange(2, 13),\n",
    "        'min_samples_leaf': np.arange(3, 10),\n",
    "        'min_samples_split': np.arange(8, 15)}\n",
    "\n",
    "    clf_dt = tree.DecisionTreeClassifier(criterion='gini', random_state=123)\n",
    "    GS = GridSearchCV(clf_dt, param_grid, cv=sss)\n",
    "    GS.fit(data_x_scaled, data_y)\n",
    "    print('GridSearchCV get the optimal combination of parameters:')\n",
    "    print(GS.best_params_)\n",
    "    print('GridSearchCV get the score: %0.3f' % (GS.best_score_))\n",
    "    \n",
    "    max_depth = GS.best_params_['max_depth']\n",
    "    min_samples_leaf = GS.best_params_['min_samples_leaf']\n",
    "    min_samples_split = GS.best_params_['min_samples_split']\n",
    "    return max_depth, min_samples_leaf, min_samples_split"
   ]
  },
  {
   "cell_type": "code",
   "execution_count": 5,
   "metadata": {},
   "outputs": [],
   "source": [
    "# train the models and get the mean score of cross validation\n",
    "\n",
    "def Classifier(data_x_scaled, data_y,max_depth,min_samples_leaf,min_samples_split,sss):\n",
    "    dtc = DecisionTreeClassifier(criterion=\"gini\", random_state=123, splitter=\"best\",max_depth=max_depth,\\\n",
    "                                 min_samples_split=min_samples_split, min_samples_leaf=min_samples_leaf)\n",
    "    score_dtc = cross_val_score(dtc, data_x_scaled, data_y, cv=sss)\n",
    "    print(\"%0.3f accuracy with a standard deviation of %0.3f\" % (score_dtc.mean(), score_dtc.std()))\n",
    "    return dtc"
   ]
  },
  {
   "cell_type": "code",
   "execution_count": 6,
   "metadata": {},
   "outputs": [
    {
     "name": "stdout",
     "output_type": "stream",
     "text": [
      "GridSearchCV get the optimal combination of parameters:\n",
      "{'max_depth': 3, 'min_samples_leaf': 3, 'min_samples_split': 8}\n",
      "GridSearchCV get the score: 0.821\n",
      "0.821 accuracy with a standard deviation of 0.030\n"
     ]
    }
   ],
   "source": [
    "if __name__=='__main__':\n",
    "    # read audio file\n",
    "    csv_file_discussion = \"data/Sample_discussion.csv\"\n",
    "    data= pd.read_csv(csv_file_discussion, index_col=0,low_memory = False)\n",
    "\n",
    "    # import audio data\n",
    "    dataset = data.drop(labels=['uri',\"timestamp\"],axis=1)\n",
    "    labels = ['Feature1','Feature2','Feature3','Feature4','Feature5','Feature6',\\\n",
    "              'Feature7','Feature8','Feature9','Feature10','Feature11','Feature12',\\\n",
    "              'Feature13','Feature14','Feature15','Feature16']\n",
    "    \n",
    "    data_x_scaled, data_y = import_data(dataset)\n",
    "    \n",
    "    # shuffle split the dataset\n",
    "    sss = shufflesplit_data(data_x_scaled, data_y)\n",
    "    max_depth, min_samples_leaf,min_samples_split = SearchCV()\n",
    "    print('===========================================')\n",
    "    # train model and get the mean score of test dataset\n",
    "    dtc = Classifier(data_x_scaled,data_y,max_depth,min_samples_leaf,min_samples_split,sss)"
   ]
  },
  {
   "cell_type": "code",
   "execution_count": 7,
   "metadata": {},
   "outputs": [],
   "source": [
    "from sklearn.model_selection import StratifiedShuffleSplit\n",
    "\n",
    "# use strat. shuffle split to get indices for test and training data \n",
    "sss = StratifiedShuffleSplit(n_splits=10, test_size=0.3, random_state=123)\n",
    "sss.get_n_splits(data_x_scaled, data_y)\n",
    "for train_index, test_index in sss.split(data_x_scaled, data_y):\n",
    "    #print(\"TRAIN:\", train_index, \"TEST:\", test_index)\n",
    "    x_train, x_test = data_x_scaled[train_index], data_x_scaled[test_index]\n",
    "    y_train, y_test = data_y[train_index], data_y[test_index]"
   ]
  },
  {
   "cell_type": "code",
   "execution_count": 8,
   "metadata": {},
   "outputs": [
    {
     "data": {
      "text/plain": [
       "DecisionTreeClassifier(max_depth=8, min_samples_leaf=3, min_samples_split=3,\n",
       "                       random_state=123)"
      ]
     },
     "execution_count": 8,
     "metadata": {},
     "output_type": "execute_result"
    }
   ],
   "source": [
    "from sklearn.tree import DecisionTreeClassifier\n",
    "dtc = DecisionTreeClassifier(criterion=\"gini\",random_state=123,splitter=\"best\",max_depth=8,min_samples_split=3,min_samples_leaf=3)\n",
    "dtc.fit(x_train,y_train)"
   ]
  },
  {
   "cell_type": "code",
   "execution_count": 9,
   "metadata": {},
   "outputs": [],
   "source": [
    "# get the graph of Decision Tree\n",
    "from six import StringIO\n",
    "import pydot\n",
    "\n",
    "dot_data = StringIO()\n",
    "feature_name=[ 'feature27','feature28','feature39','feature45','feature46','feature55','feature58',\\\n",
    "              'feature61','feature63','feature67','feature68','feature69','feature70','feature71',\\\n",
    "              'feature72','feature79']\n",
    "class_name=['debate', 'narration']\n",
    "graph_data=tree.export_graphviz(dtc, out_file=dot_data, feature_names=feature_name,\\\n",
    "                                class_names=class_name, filled=True, rounded=True, special_characters=True)\n",
    "(graph,) = pydot.graph_from_dot_data(dot_data.getvalue())\n",
    "graph.write_png('DiscussionTreePlot.png')"
   ]
  },
  {
   "cell_type": "code",
   "execution_count": 10,
   "metadata": {},
   "outputs": [
    {
     "name": "stdout",
     "output_type": "stream",
     "text": [
      "              precision    recall  f1-score   support\n",
      "\n",
      "           0       0.89      0.98      0.93       128\n",
      "           1       0.96      0.80      0.87        82\n",
      "\n",
      "    accuracy                           0.91       210\n",
      "   macro avg       0.92      0.89      0.90       210\n",
      "weighted avg       0.91      0.91      0.91       210\n",
      "\n",
      "----------------------------------------------------------\n",
      "              precision    recall  f1-score   support\n",
      "\n",
      "           0       0.82      0.89      0.85        55\n",
      "           1       0.80      0.69      0.74        35\n",
      "\n",
      "    accuracy                           0.81        90\n",
      "   macro avg       0.81      0.79      0.80        90\n",
      "weighted avg       0.81      0.81      0.81        90\n",
      "\n"
     ]
    },
    {
     "data": {
      "image/png": "[encoded data removed]",
      "text/plain": [
       "<Figure size 720x720 with 2 Axes>"
      ]
     },
     "metadata": {
      "needs_background": "light"
     },
     "output_type": "display_data"
    },
    {
     "data": {
      "image/png": "[encoded data removed]",
      "text/plain": [
       "<Figure size 432x288 with 1 Axes>"
      ]
     },
     "metadata": {
      "needs_background": "light"
     },
     "output_type": "display_data"
    }
   ],
   "source": [
    "# performance metrics of Decision Tree\n",
    "dtc_Metrics=Metrics(dtc)\n",
    "dtc_Metrics.Plot_ConfusionMatrix()\n",
    "dtc_Metrics.Get_ClassificationReport()\n",
    "dtc_Metrics.Plot_ROC()"
   ]
  },
  {
   "cell_type": "markdown",
   "metadata": {},
   "source": [
    "# 2、Randrom Forest Classifier"
   ]
  },
  {
   "cell_type": "code",
   "execution_count": 11,
   "metadata": {},
   "outputs": [],
   "source": [
    "# GridSearchCV to find the best combination of max_depth and n_estimators\n",
    "from sklearn.model_selection import StratifiedShuffleSplit, GridSearchCV, cross_val_score\n",
    "\n",
    "def SearchCV(data_x_scaled, data_y):  \n",
    "    param_grid = {\n",
    "        'max_depth': np.arange(2, 18),\n",
    "        'n_estimators': np.arange(20, 30),\n",
    "        }\n",
    "    clf_rf = RandomForestClassifier(oob_score=True,criterion='gini',max_features='sqrt',random_state=123)\n",
    "    \n",
    "    # use GredSearchCV to find the best combination of parameters\n",
    "    GS = GridSearchCV(clf_rf, param_grid, cv=sss)\n",
    "    GS.fit(data_x_scaled, data_y)\n",
    "    print('GridSearchCV get the optimal combination of parameters:')\n",
    "    print(GS.best_params_)\n",
    "    print('GridSearchCV get the score: %0.3f' % (GS.best_score_))\n",
    "    max_depth = GS.best_params_['max_depth']\n",
    "    n_estimators = GS.best_params_['n_estimators']\n",
    " \n",
    "    return max_depth, n_estimators"
   ]
  },
  {
   "cell_type": "code",
   "execution_count": 12,
   "metadata": {},
   "outputs": [],
   "source": [
    "# find the best combination of max_depth and n_estimators\n",
    "def finding_parameter(data_x_scaled, data_y, sss):\n",
    "    # set the range of finding estimator_number and max_depth\n",
    "    estimator_number = np.arange(20,27,1)\n",
    "    depth = np.arange(3,15,1)\n",
    "    ScoreAll=[]\n",
    "    Scorenum=[]\n",
    "    Scorenum_array=[]\n",
    "    for num in estimator_number:\n",
    "        Scorenum=[]\n",
    "        for d in depth:\n",
    "            clf = RandomForestClassifier(n_estimators=num, max_depth=d,random_state=123,oob_score=True,\\\n",
    "                                         criterion='gini',max_features='sqrt')\n",
    "            score = cross_val_score(clf, data_x_scaled, data_y, cv=sss).mean()\n",
    "            ScoreAll.append([d, num, score])\n",
    "            Scorenum.append(score)\n",
    "        Scorenum_array.append(np.array(Scorenum))\n",
    "   \n",
    "    ScoreAll = np.array(ScoreAll) \n",
    "    # get the position of the best combination and the score\n",
    "    max_score = np.where(ScoreAll == np.max(ScoreAll[:, 2]))  \n",
    "    print(\"the best depth, the best estimator_number and the score:\", ScoreAll[max_score[0],0],ScoreAll[max_score[0],1],ScoreAll[max_score])\n",
    "\n",
    "    f, ax = plt.subplots(1, 1, figsize=(24, 10))\n",
    "    cax = ax.matshow( Scorenum_array, interpolation='nearest')\n",
    "    f.colorbar(cax)\n",
    "    ax.set_xticks(range(0,len(depth)))\n",
    "    ax.set_yticks(range(0,len(estimator_number)))\n",
    "    ax.set_xticklabels(depth.tolist()) \n",
    "    ax.set_yticklabels(estimator_number.tolist())\n",
    "    plt.xlabel('max depth')\n",
    "    plt.ylabel('estimator_number')\n",
    "    plt.show()\n"
   ]
  },
  {
   "cell_type": "code",
   "execution_count": 13,
   "metadata": {},
   "outputs": [],
   "source": [
    "# train the models and get the mean score of cross validation\n",
    "from sklearn.tree import DecisionTreeClassifier\n",
    "\n",
    "def RF_Classifier(data_x_scaled, data_y,max_depth,n_estimators,sss):\n",
    "    rf = RandomForestClassifier(n_estimators=n_estimators, max_depth=max_depth,\\\n",
    "                                      random_state=123,criterion='gini',max_features='sqrt',n_jobs=-1)\n",
    "    score_rf = cross_val_score(rf, data_x_scaled, data_y, cv=sss)\n",
    "    print(\"%0.3f accuracy with a standard deviation of %0.3f\" % (score_rf.mean(), score_rf.std()))\n",
    "    return rf"
   ]
  },
  {
   "cell_type": "code",
   "execution_count": 14,
   "metadata": {},
   "outputs": [
    {
     "name": "stdout",
     "output_type": "stream",
     "text": [
      "the best depth, the best estimator_number and the score: [6.] [24.] [0.79666667]\n"
     ]
    },
    {
     "data": {
      "image/png": "[encoded data removed]",
      "text/plain": [
       "<Figure size 1728x720 with 2 Axes>"
      ]
     },
     "metadata": {
      "needs_background": "light"
     },
     "output_type": "display_data"
    },
    {
     "name": "stdout",
     "output_type": "stream",
     "text": [
      "GridSearchCV get the optimal combination of parameters:\n",
      "{'max_depth': 6, 'n_estimators': 24}\n",
      "GridSearchCV get the score: 0.797\n",
      "0.797 accuracy with a standard deviation of 0.041\n"
     ]
    }
   ],
   "source": [
    "# find the best combination of parameters and analyse the effect of different parameters on mean score\n",
    "if __name__=='__main__':\n",
    "    # read audio file\n",
    "    csv_file_discussion = \"data/Sample_discussion.csv\"\n",
    "    data= pd.read_csv(csv_file_discussion, index_col=0,low_memory = False)\n",
    "    \n",
    "    # import audio data\n",
    "    dataset = data.drop(labels=['uri',\"timestamp\"],axis=1)\n",
    "    data_x_scaled, data_y  = import_data(dataset)\n",
    "    \n",
    "    # shuffle split the dataset\n",
    "    sss = shufflesplit_data(data_x_scaled, data_y)\n",
    "    max_depth, n_estimators = SearchCV(data_x_scaled, data_y)\n",
    "    print('==============================================')\n",
    "    finding_parameter(data_x_scaled, data_y, sss)\n",
    "    # train model and get the mean score of test dataset\n",
    "    rf= RF_Classifier(data_x_scaled,data_y,max_depth,n_estimators,sss)\n"
   ]
  },
  {
   "cell_type": "markdown",
   "metadata": {},
   "source": [
    "### Train Random Forest classifier with the best combination of parameters and get the performance of the model"
   ]
  },
  {
   "cell_type": "code",
   "execution_count": 15,
   "metadata": {},
   "outputs": [],
   "source": [
    "from sklearn.model_selection import StratifiedShuffleSplit\n",
    "\n",
    "# use strat. shuffle split to get indices for test and training data \n",
    "sss = StratifiedShuffleSplit(n_splits=10, test_size=0.3, random_state=123)\n",
    "sss.get_n_splits(data_x_scaled, data_y)\n",
    "for train_index, test_index in sss.split(data_x_scaled, data_y):\n",
    "    #print(\"TRAIN:\", train_index, \"TEST:\", test_index)\n",
    "    x_train, x_test = data_x_scaled[train_index], data_x_scaled[test_index]\n",
    "    y_train, y_test = data_y[train_index], data_y[test_index]"
   ]
  },
  {
   "cell_type": "code",
   "execution_count": 16,
   "metadata": {},
   "outputs": [
    {
     "name": "stdout",
     "output_type": "stream",
     "text": [
      "training accuracy (depth: 2 ): 0.8142857142857143\n",
      "test accuracy (depth: 2 ): 0.8333333333333334\n",
      "training accuracy (depth: 3 ): 0.8428571428571429\n",
      "test accuracy (depth: 3 ): 0.8444444444444444\n",
      "training accuracy (depth: 4 ): 0.8666666666666667\n",
      "test accuracy (depth: 4 ): 0.8444444444444444\n",
      "training accuracy (depth: 5 ): 0.9\n",
      "test accuracy (depth: 5 ): 0.8111111111111111\n",
      "training accuracy (depth: 6 ): 0.9142857142857143\n",
      "test accuracy (depth: 6 ): 0.8444444444444444\n",
      "training accuracy (depth: 7 ): 0.9142857142857143\n",
      "test accuracy (depth: 7 ): 0.8666666666666667\n",
      "training accuracy (depth: 8 ): 0.919047619047619\n",
      "test accuracy (depth: 8 ): 0.8333333333333334\n",
      "training accuracy (depth: 9 ): 0.9285714285714286\n",
      "test accuracy (depth: 9 ): 0.8444444444444444\n",
      "training accuracy (depth: 10 ): 0.9285714285714286\n",
      "test accuracy (depth: 10 ): 0.8555555555555555\n",
      "training accuracy (depth: 11 ): 0.9285714285714286\n",
      "test accuracy (depth: 11 ): 0.8555555555555555\n",
      "training accuracy (depth: 12 ): 0.9285714285714286\n",
      "test accuracy (depth: 12 ): 0.8222222222222222\n",
      "training accuracy (depth: 13 ): 0.9285714285714286\n",
      "test accuracy (depth: 13 ): 0.8333333333333334\n",
      "training accuracy (depth: 14 ): 0.9285714285714286\n",
      "test accuracy (depth: 14 ): 0.8222222222222222\n",
      "training accuracy (depth: 15 ): 0.9285714285714286\n",
      "test accuracy (depth: 15 ): 0.8222222222222222\n",
      "training accuracy (depth: 16 ): 0.9285714285714286\n",
      "test accuracy (depth: 16 ): 0.8222222222222222\n",
      "training accuracy (depth: 17 ): 0.9285714285714286\n",
      "test accuracy (depth: 17 ): 0.8222222222222222\n",
      "training accuracy (depth: 18 ): 0.9285714285714286\n",
      "test accuracy (depth: 18 ): 0.8222222222222222\n",
      "training accuracy (depth: 19 ): 0.9285714285714286\n",
      "test accuracy (depth: 19 ): 0.8222222222222222\n"
     ]
    },
    {
     "data": {
      "image/png": "[encoded data removed]",
      "text/plain": [
       "<Figure size 576x288 with 1 Axes>"
      ]
     },
     "metadata": {
      "needs_background": "light"
     },
     "output_type": "display_data"
    }
   ],
   "source": [
    "depth = range(2,20,1)\n",
    "train_accuracy = []\n",
    "valid_accuracy = []\n",
    "test_accuracy = []\n",
    "for d in depth:\n",
    "    model_dt = RandomForestClassifier(n_estimators=24, max_depth=d,random_state=123,oob_score=True,criterion='gini',max_features='sqrt')\n",
    "    model_dt.fit(x_train, y_train)\n",
    "    \n",
    "    train_score = model_dt.score(x_train, y_train)\n",
    "    train_accuracy.append(train_score)\n",
    "    print('training accuracy (depth:',d,'):',train_score)\n",
    "\n",
    "    test_score = model_dt.score(x_test, y_test)\n",
    "    test_accuracy.append(test_score)\n",
    "    print('test accuracy (depth:',d,'):',test_score)\n",
    "    \n",
    "plt.figure(figsize=(8,4))\n",
    "plt.plot(depth,train_accuracy,label='$training accuracy$',color='red')\n",
    "plt.plot(depth,test_accuracy,label='$test accuracy$',color='green')\n",
    "plt.xlabel('Max depth')\n",
    "plt.ylabel('data accuracy')\n",
    "plt.ylim((0, 1))\n",
    "plt.title('Decision tree accuracy for training, validation, test data')\n",
    "plt.legend()\n",
    "plt.grid(True)\n",
    "plt.show()"
   ]
  },
  {
   "cell_type": "code",
   "execution_count": 17,
   "metadata": {},
   "outputs": [
    {
     "name": "stdout",
     "output_type": "stream",
     "text": [
      "random forest\n"
     ]
    },
    {
     "data": {
      "text/plain": [
       "RandomForestClassifier(max_depth=6, max_features='sqrt', n_estimators=24,\n",
       "                       oob_score=True, random_state=123)"
      ]
     },
     "execution_count": 17,
     "metadata": {},
     "output_type": "execute_result"
    }
   ],
   "source": [
    "print(\"random forest\")\n",
    "rfc = RandomForestClassifier(n_estimators=24, max_depth=6,random_state=123,oob_score=True,criterion='gini',max_features='sqrt')\n",
    "rfc.fit(x_train, y_train)"
   ]
  },
  {
   "cell_type": "code",
   "execution_count": 18,
   "metadata": {},
   "outputs": [
    {
     "name": "stdout",
     "output_type": "stream",
     "text": [
      "              precision    recall  f1-score   support\n",
      "\n",
      "           0       0.90      0.97      0.93       128\n",
      "           1       0.94      0.83      0.88        82\n",
      "\n",
      "    accuracy                           0.91       210\n",
      "   macro avg       0.92      0.90      0.91       210\n",
      "weighted avg       0.92      0.91      0.91       210\n",
      "\n",
      "----------------------------------------------------------\n",
      "              precision    recall  f1-score   support\n",
      "\n",
      "           0       0.83      0.95      0.88        55\n",
      "           1       0.89      0.69      0.77        35\n",
      "\n",
      "    accuracy                           0.84        90\n",
      "   macro avg       0.86      0.82      0.83        90\n",
      "weighted avg       0.85      0.84      0.84        90\n",
      "\n"
     ]
    },
    {
     "data": {
      "image/png": "[encoded data removed]",
      "text/plain": [
       "<Figure size 720x720 with 2 Axes>"
      ]
     },
     "metadata": {
      "needs_background": "light"
     },
     "output_type": "display_data"
    },
    {
     "data": {
      "image/png": "[encoded data removed]",
      "text/plain": [
       "<Figure size 432x288 with 1 Axes>"
      ]
     },
     "metadata": {
      "needs_background": "light"
     },
     "output_type": "display_data"
    }
   ],
   "source": [
    "# performance metrics of Random Forest\n",
    "rfc_Metrics=Metrics(rfc)\n",
    "rfc_Metrics.Plot_ConfusionMatrix()\n",
    "rfc_Metrics.Get_ClassificationReport()\n",
    "rfc_Metrics.Plot_ROC()"
   ]
  },
  {
   "cell_type": "markdown",
   "metadata": {},
   "source": [
    "# 3. SVM"
   ]
  },
  {
   "cell_type": "code",
   "execution_count": null,
   "metadata": {},
   "outputs": [
    {
     "name": "stdout",
     "output_type": "stream",
     "text": [
      "The parameters of the best model are: \n",
      "{'C': 1, 'gamma': 0.125, 'kernel': 'rbf'}\n",
      "The best score is: \n",
      "0.7466666666666667\n",
      "The mean score is: \n"
     ]
    }
   ],
   "source": [
    "from sklearn.model_selection import GridSearchCV\n",
    "from sklearn import svm\n",
    "\n",
    "CScale = range(-15,15,1)\n",
    "gammaScale=range(-15,15,1)\n",
    "\n",
    "CScale = [2 ** i for i in CScale]\n",
    "gammaScale = [2 ** i for i in gammaScale]\n",
    "\n",
    "parameters = dict(kernel=['rbf'],gamma=gammaScale, C=CScale)\n",
    "sss = StratifiedShuffleSplit(n_splits=10, test_size=0.3, random_state=123)\n",
    "SVC=svm.SVC(decision_function_shape='ovo',probability=True, class_weight='balanced',random_state=123)\n",
    "\n",
    "svm = GridSearchCV(estimator=SVC, param_grid=parameters, cv=sss,n_jobs=-1)\n",
    "svm.fit(data_x_scaled, data_y)\n",
    "\n",
    "print('The parameters of the best model are: ')\n",
    "print(svm.best_params_)\n",
    "print('The best score is: ')\n",
    "print(svm.best_score_ )\n",
    "print('The mean score is: ')\n",
    "print(cross_val_score(svm, data_x_scaled, data_y, cv=sss).mean())"
   ]
  },
  {
   "cell_type": "markdown",
   "metadata": {},
   "source": [
    "### Use the parameters to train SVM model and get the performance of the model"
   ]
  },
  {
   "cell_type": "code",
   "execution_count": null,
   "metadata": {},
   "outputs": [],
   "source": [
    "from sklearn.model_selection import StratifiedShuffleSplit\n",
    "\n",
    "# use strat. shuffle split to get indices for test and training data \n",
    "sss = StratifiedShuffleSplit(n_splits=10, test_size=0.3, random_state=123)\n",
    "sss.get_n_splits(data_x_scaled, data_y)\n",
    "for train_index, test_index in sss.split(data_x_scaled, data_y):\n",
    "    #print(\"TRAIN:\", train_index, \"TEST:\", test_index)\n",
    "    x_train, x_test = data_x_scaled[train_index], data_x_scaled[test_index]\n",
    "    y_train, y_test = data_y[train_index], data_y[test_index]"
   ]
  },
  {
   "cell_type": "code",
   "execution_count": null,
   "metadata": {},
   "outputs": [],
   "source": [
    "print(\"SVM Classifier\")\n",
    "from sklearn import svm\n",
    "\n",
    "svm = svm.SVC(kernel='rbf', C=1, gamma=0.125, probability=True, class_weight='balanced',random_state=123)\n",
    "svm.fit(x_train,y_train)"
   ]
  },
  {
   "cell_type": "code",
   "execution_count": null,
   "metadata": {},
   "outputs": [],
   "source": [
    "# performance metrics of Random Forest\n",
    "svm_Metrics=Metrics(svm)\n",
    "svm_Metrics.Plot_ConfusionMatrix()\n",
    "svm_Metrics.Get_ClassificationReport()\n",
    "svm_Metrics.Plot_ROC()"
   ]
  },
  {
   "cell_type": "markdown",
   "metadata": {},
   "source": [
    "## Compare the ROC curves of test dataset of three models"
   ]
  },
  {
   "cell_type": "code",
   "execution_count": null,
   "metadata": {},
   "outputs": [],
   "source": [
    "from sklearn.metrics import roc_curve\n",
    "\n",
    "y_score_test_dtc = dtc.predict_proba(x_test)\n",
    "fpr_test_dtc, tpr_test_dtc, _ = roc_curve(y_test, y_score_test_dtc[:,1])\n",
    "roc_auc_test_dtc = auc(fpr_test_dtc, tpr_test_dtc)\n",
    "\n",
    "y_score_test_rfc = rfc.predict_proba(x_test)\n",
    "fpr_test_rfc, tpr_test_rfc, _ = roc_curve(y_test, y_score_test_rfc[:,1])\n",
    "roc_auc_test_rfc = auc(fpr_test_rfc, tpr_test_rfc)\n",
    "\n",
    "y_score_test_svm = svm.predict_proba(x_test)\n",
    "fpr_test_svm, tpr_test_svm, _ = roc_curve(y_test, y_score_test_svm[:,1])\n",
    "roc_auc_test_svm = auc(fpr_test_svm, tpr_test_svm)\n",
    "\n",
    "plt.figure()\n",
    "lw = 2\n",
    "plt.plot([0,1], [0,1], color='navy', lw=lw, linestyle='--')\n",
    "\n",
    "plt.plot(fpr_test_dtc, tpr_test_dtc, color='blue',lw=lw, \n",
    "             label='ROC curve of Decision Tree (area = %0.2f)' % roc_auc_test_dtc)\n",
    "plt.plot(fpr_test_rfc, tpr_test_rfc, color='green',lw=lw, \n",
    "             label='ROC curve of Random Forest(area = %0.2f)' % roc_auc_test_rfc)\n",
    "plt.plot(fpr_test_svm, tpr_test_svm, color='darkorange',lw=lw, \n",
    "             label='ROC curve of SVM (area = %0.2f)' % roc_auc_test_svm)\n",
    "\n",
    "plt.xlim([0, 1.0])\n",
    "plt.ylim([0, 1.05])\n",
    "\n",
    "plt.xlabel('False Positive Rate')\n",
    "plt.ylabel('True Positive Rate')\n",
    "plt.title('Comparison of ROC curve of three models')\n",
    "plt.legend(loc=\"lower right\")\n",
    "plt.show()  "
   ]
  },
  {
   "cell_type": "code",
   "execution_count": null,
   "metadata": {},
   "outputs": [],
   "source": []
  }
 ],
 "metadata": {
  "kernelspec": {
   "display_name": "Python 3",
   "language": "python",
   "name": "python3"
  },
  "language_info": {
   "codemirror_mode": {
    "name": "ipython",
    "version": 3
   },
   "file_extension": ".py",
   "mimetype": "text/x-python",
   "name": "python",
   "nbconvert_exporter": "python",
   "pygments_lexer": "ipython3",
   "version": "3.8.2"
  }
 },
 "nbformat": 4,
 "nbformat_minor": 4
}
